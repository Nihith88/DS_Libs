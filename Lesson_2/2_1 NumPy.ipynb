{
 "cells": [
  {
   "cell_type": "markdown",
   "id": "510a627f",
   "metadata": {},
   "source": [
    "### Урок 2 \"Библиотеки Data Science в Python\n",
    "#### Часть 1. Библиотека NumPy"
   ]
  },
  {
   "cell_type": "markdown",
   "id": "a1ad1854",
   "metadata": {},
   "source": [
    "Создайте массив Numpy под названием a размером 5x2, то есть состоящий из 5 строк и 2 столбцов. Первый столбец должен \n",
    "содержать числа 1, 2, 3, 3, 1, а второй - числа 6, 8, 11, 10, 7. Будем считать, что каждый столбец - это признак, а \n",
    "строка - наблюдение. Затем найдите среднее значение по каждому признаку, используя метод mean массива Numpy. Результат \n",
    "запишите в массив mean_a, в нем должно быть 2 элемента."
   ]
  },
  {
   "cell_type": "code",
   "execution_count": 7,
   "id": "3b428f24",
   "metadata": {},
   "outputs": [
    {
     "name": "stdout",
     "output_type": "stream",
     "text": [
      "[4.6 5.8]\n"
     ]
    }
   ],
   "source": [
    "import numpy as np\n",
    "a = np.array([[1, 2, 3, 3, 1],\n",
    "             [6, 8, 11, 10, 7]]).reshape(5, 2)\n",
    "\n",
    "mean_a = np.mean(a, axis=0)\n",
    "print(mean_a)"
   ]
  },
  {
   "cell_type": "markdown",
   "id": "6c4f3077",
   "metadata": {},
   "source": [
    "Вычислите массив a_centered, отняв от значений массива “а” средние значения соответствующих признаков, содержащиеся в \n",
    "массиве mean_a. Вычисление должно производиться в одно действие. Получившийся массив должен иметь размер 5x2."
   ]
  },
  {
   "cell_type": "code",
   "execution_count": 8,
   "id": "575b4416",
   "metadata": {},
   "outputs": [
    {
     "name": "stdout",
     "output_type": "stream",
     "text": [
      "[[-3.6 -3.8]\n",
      " [-1.6 -2.8]\n",
      " [-3.6  0.2]\n",
      " [ 3.4  5.2]\n",
      " [ 5.4  1.2]]\n"
     ]
    }
   ],
   "source": [
    "a_centered = a - mean_a\n",
    "print(a_centered)"
   ]
  },
  {
   "cell_type": "markdown",
   "id": "c128b24f",
   "metadata": {},
   "source": [
    "Найдите скалярное произведение столбцов массива a_centered. В результате должна получиться величина a_centered_sp. \n",
    "Затем поделите a_centered_sp на N-1, где N - число наблюдений."
   ]
  },
  {
   "cell_type": "code",
   "execution_count": 9,
   "id": "0d6e3538",
   "metadata": {},
   "outputs": [
    {
     "name": "stdout",
     "output_type": "stream",
     "text": [
      "41.60000000000001\n",
      "10.400000000000002\n"
     ]
    }
   ],
   "source": [
    "a_centered_sp = a_centered.T[0] @ a_centered.T[1]\n",
    "print(a_centered_sp)\n",
    "\n",
    "print(a_centered_sp / (a_centered.shape[0] - 1))"
   ]
  },
  {
   "cell_type": "markdown",
   "id": "dc0eaddb",
   "metadata": {},
   "source": [
    "Число, которое мы получили в конце задания 3 является ковариацией двух признаков, содержащихся в массиве а. В задании 4 \n",
    "мы делили сумму произведений центрированных признаков на N-1, а не на N, поэтому полученная нами величина является \n",
    "несмещенной оценкой ковариации. В этом задании проверьте получившееся число, вычислив ковариацию еще одним способом - \n",
    "с помощью функции np.cov. В качестве аргумента m функция np.cov должна принимать транспонированный массив a. \n",
    "В получившейся ковариационной матрице (массив Numpy размером 2x2) искомое значение ковариации будет равно элементу в \n",
    "строке с индексом 0 и столбце с индексом 1."
   ]
  },
  {
   "cell_type": "code",
   "execution_count": 10,
   "id": "3c0a35d7",
   "metadata": {},
   "outputs": [
    {
     "name": "stdout",
     "output_type": "stream",
     "text": [
      "10.400000000000002\n"
     ]
    }
   ],
   "source": [
    "print(np.cov(a.T)[0, 1])"
   ]
  }
 ],
 "metadata": {
  "kernelspec": {
   "display_name": "Python 3",
   "language": "python",
   "name": "python3"
  },
  "language_info": {
   "codemirror_mode": {
    "name": "ipython",
    "version": 3
   },
   "file_extension": ".py",
   "mimetype": "text/x-python",
   "name": "python",
   "nbconvert_exporter": "python",
   "pygments_lexer": "ipython3",
   "version": "3.8.8"
  }
 },
 "nbformat": 4,
 "nbformat_minor": 5
}
